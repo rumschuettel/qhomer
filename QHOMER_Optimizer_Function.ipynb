{
 "cells": [
  {
   "cell_type": "code",
   "execution_count": 1,
   "metadata": {},
   "outputs": [],
   "source": [
    "from qiskit import *"
   ]
  },
  {
   "cell_type": "code",
   "execution_count": 4,
   "metadata": {},
   "outputs": [],
   "source": [
    "def QHOMER_DensityMatrix(n_qubits):\n",
    "    psi = np.ones(2^n_qubits)\n",
    "    norm = np.norm(psi)\n",
    "    psi0 = psi/norm\n",
    "    DiagVector = psi0.t\n",
    "    Hemiltonian = -(psi0*DiagVector)\n",
    "    \n",
    "    backend = Aer.get_backend('qasm_simulator')\n",
    "    \n",
    "    from qiskit.aqua.components.optimizers import L_BFGS_B\n",
    "    optimizer = L_BFGS_B()\n",
    "    \n",
    "    from qiskit.aqua.components.variational_forms import RYRZ\n",
    "    var_form = RYRZ(n_qubits)\n",
    "    \n",
    "    from qiskit.aqua.algorithms import VQE\n",
    "    algorithm = VQE (Hemiltonian, var_form, optimizer)\n",
    "    \n",
    "    result = algorithm.rum(backend)\n",
    "    return result\n",
    "\n",
    "                    \n",
    "                    \n",
    "    \n",
    "                  "
   ]
  },
  {
   "cell_type": "code",
   "execution_count": null,
   "metadata": {},
   "outputs": [],
   "source": []
  }
 ],
 "metadata": {
  "kernelspec": {
   "display_name": "Python 3",
   "language": "python",
   "name": "python3"
  },
  "language_info": {
   "codemirror_mode": {
    "name": "ipython",
    "version": 3
   },
   "file_extension": ".py",
   "mimetype": "text/x-python",
   "name": "python",
   "nbconvert_exporter": "python",
   "pygments_lexer": "ipython3",
   "version": "3.7.3"
  }
 },
 "nbformat": 4,
 "nbformat_minor": 2
}
