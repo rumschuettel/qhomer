{
 "cells": [
  {
   "cell_type": "code",
   "execution_count": 25,
   "metadata": {},
   "outputs": [],
   "source": [
    "from qiskit import *\n",
    "from qiskit.aqua.components.optimizers import L_BFGS_B\n",
    "import numpy as np\n",
    "from qiskit.aqua.algorithms import VQE\n",
    "from qiskit.aqua.components.variational_forms import RYRZ\n",
    "#import logging\n",
    "from qiskit.aqua.algorithms import ExactEigensolver\n",
    "from qiskit.aqua.operators import MatrixOperator\n",
    "def diagonalize(self, k):\n",
    "   exact_eigensolver = ExactEigensolver(self, k=k)\n",
    "   return(exact_eigensolver.run())\n",
    "MatrixOperator.diagonalize = diagonalize"
   ]
  },
  {
   "cell_type": "code",
   "execution_count": 26,
   "metadata": {},
   "outputs": [],
   "source": [
    "def HAMILTON_FUNCTION(n_qubits):\n",
    "    \n",
    "    psi = np.ones(2**n_qubits)\n",
    "    norm = np.linalg.norm(psi,2)\n",
    "    psi0 = psi/norm\n",
    "    \n",
    "    DiagVector = np.transpose([psi0])\n",
    "    \n",
    "    Hemiltonian = -(np.kron(DiagVector,psi0))\n",
    "    \n",
    "    \n",
    "    HamiltOP = MatrixOperator(Hemiltonian)\n",
    "    return HamiltOP"
   ]
  },
  {
   "cell_type": "code",
   "execution_count": 27,
   "metadata": {},
   "outputs": [],
   "source": [
    "def QHOMER_VQE(HamiltOP, n_qubits):\n",
    "    #from qiskit.chemistry import set_qiskit_chemistry_logging\n",
    "    #set_qiskit_chemistry_logging(logging.INFO)\n",
    "    \n",
    "    backend = Aer.get_backend('statevector_simulator')\n",
    "    \n",
    "    optimizer = L_BFGS_B()\n",
    "\n",
    "    \n",
    "    var_form = RYRZ(n_qubits)\n",
    "    \n",
    "    algorithm = VQE(HamiltOP, var_form, optimizer, operator_mode='matrix')\n",
    "    \n",
    "    result = algorithm.run(backend)\n",
    "    \n",
    "    return result\n"
   ]
  },
  {
   "cell_type": "code",
   "execution_count": 28,
   "metadata": {},
   "outputs": [
    {
     "name": "stderr",
     "output_type": "stream",
     "text": [
      "F:\\Anaconda\\lib\\site-packages\\qiskit\\aqua\\algorithms\\adaptive\\vqe\\vqe.py:105: DeprecationWarning: operator_mode option is deprecated and it will be removed after 0.6. Now the operator has its own mode, no need extra info to tell the VQE.\n",
      "  \"Now the operator has its own mode, no need extra info to tell the VQE.\", DeprecationWarning)\n"
     ]
    },
    {
     "name": "stdout",
     "output_type": "stream",
     "text": [
      "{'num_optimizer_evals': 272, 'min_val': -0.9999999999996139, 'opt_params': array([ 0.28023074,  2.4863788 , -2.88389851, -0.24920612,  0.53157742,\n",
      "       -2.88681793, -0.18742821,  1.71053409,  2.41311267, -1.12848871,\n",
      "       -2.18227907, -2.16761828,  1.55332175, -3.07865868, -2.34321229,\n",
      "       -2.45462018]), 'eval_time': 16.939013719558716, 'eval_count': 272, 'energy': -0.9999999999996139, 'eigvals': array([-1.]), 'min_vector': array([0.30907691+0.39302844j, 0.30907721+0.39302872j,\n",
      "       0.30907724+0.39302853j, 0.30907652+0.39302844j]), 'eigvecs': array([[0.30907691+0.39302844j, 0.30907721+0.39302872j,\n",
      "        0.30907724+0.39302853j, 0.30907652+0.39302844j]])}\n"
     ]
    }
   ],
   "source": [
    "num_qubits = 2\n",
    "Hamiltop = HAMILTON_FUNCTION(num_qubits)\n",
    "RES = QHOMER_VQE(Hamiltop, num_qubits)\n",
    "RES1 = Hamiltop.diagonalize(1)\n",
    "print(RES)"
   ]
  },
  {
   "cell_type": "code",
   "execution_count": 29,
   "metadata": {},
   "outputs": [
    {
     "name": "stdout",
     "output_type": "stream",
     "text": [
      "{'eigvals': array([-1.+0.j]), 'eigvecs': array([[0.5+0.j, 0.5+0.j, 0.5+0.j, 0.5+0.j]]), 'energy': -1.0, 'wavefunction': array([[0.5+0.j, 0.5+0.j, 0.5+0.j, 0.5+0.j]]), 'energies': array([-1.])}\n"
     ]
    }
   ],
   "source": [
    "print(RES1)"
   ]
  },
  {
   "cell_type": "code",
   "execution_count": null,
   "metadata": {},
   "outputs": [],
   "source": []
  }
 ],
 "metadata": {
  "kernelspec": {
   "display_name": "Python 3",
   "language": "python",
   "name": "python3"
  },
  "language_info": {
   "codemirror_mode": {
    "name": "ipython",
    "version": 3
   },
   "file_extension": ".py",
   "mimetype": "text/x-python",
   "name": "python",
   "nbconvert_exporter": "python",
   "pygments_lexer": "ipython3",
   "version": "3.7.3"
  }
 },
 "nbformat": 4,
 "nbformat_minor": 2
}
