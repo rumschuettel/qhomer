{
 "cells": [
  {
   "cell_type": "code",
   "execution_count": 1,
   "metadata": {},
   "outputs": [],
   "source": [
    "import qiskit\n",
    "import numpy as np\n",
    "\n",
    "import json, glob, math"
   ]
  },
  {
   "cell_type": "code",
   "execution_count": 2,
   "metadata": {},
   "outputs": [
    {
     "data": {
      "text/plain": [
       "['elephant QFT-Copy1.ipynb',\n",
       " 'elephant QFT.ipynb',\n",
       " 'main.py',\n",
       " 'plot-tools.py',\n",
       " 'PlotTools.py',\n",
       " 'png-tools.py',\n",
       " 'QHOMER_IQFT.ipynb',\n",
       " 'QHOMER_Optimizer_Function_FIXED.ipynb',\n",
       " 'README.md',\n",
       " 'Resources',\n",
       " 'VectorQraphics.py',\n",
       " '__pycache__']"
      ]
     },
     "execution_count": 2,
     "metadata": {},
     "output_type": "execute_result"
    }
   ],
   "source": [
    "glob.glob(\"*\")"
   ]
  },
  {
   "cell_type": "code",
   "execution_count": 3,
   "metadata": {},
   "outputs": [],
   "source": [
    "def qubits_necessary(n):\n",
    "    \"\"\"log2 of n\"\"\"\n",
    "    l2 = math.log2(n)\n",
    "    assert l2 % 1 == 0, \"not an integer power of 2\"\n",
    "    return int(l2)\n",
    "\n",
    "def normalized(arr):\n",
    "    \"\"\"l2-normalization\"\"\"\n",
    "    return arr / np.linalg.norm(arr, 2)"
   ]
  },
  {
   "cell_type": "markdown",
   "metadata": {},
   "source": [
    "## Data Loading"
   ]
  },
  {
   "cell_type": "code",
   "execution_count": 197,
   "metadata": {},
   "outputs": [],
   "source": [
    "with open(\"./Resources/elephant.3.json\") as f:\n",
    "    data = json.load(f)[:-1]\n",
    "    data = normalized(np.array([complex(a, b) for a, b in data]))\n",
    "    #data = np.round(data, 2)"
   ]
  },
  {
   "cell_type": "code",
   "execution_count": 198,
   "metadata": {},
   "outputs": [
    {
     "data": {
      "text/plain": [
       "array([-0.33540909-0.20464924j, -0.35067741+0.02636224j,\n",
       "       -0.37216689+0.21461861j,  0.25072113+0.20365533j,\n",
       "        0.24696082+0.33781225j,  0.30969593+0.03918123j,\n",
       "        0.1984365 -0.23399209j, -0.06801846-0.24846435j])"
      ]
     },
     "execution_count": 198,
     "metadata": {},
     "output_type": "execute_result"
    }
   ],
   "source": [
    "data"
   ]
  },
  {
   "cell_type": "markdown",
   "metadata": {},
   "source": [
    "## Classical FT"
   ]
  },
  {
   "cell_type": "code",
   "execution_count": 199,
   "metadata": {},
   "outputs": [],
   "source": [
    "data_ft = normalized(np.fft.fft(data))"
   ]
  },
  {
   "cell_type": "code",
   "execution_count": 200,
   "metadata": {},
   "outputs": [
    {
     "data": {
      "text/plain": [
       "array([-0.04258815+0.04756141j, -0.18224408-0.02087657j,\n",
       "        0.06916728+0.13301408j, -0.00990328-0.19188476j,\n",
       "       -0.14280016+0.03289994j,  0.08766204+0.0407759j ,\n",
       "       -0.00886371-0.0251545j , -0.7191101 -0.59517097j])"
      ]
     },
     "execution_count": 200,
     "metadata": {},
     "output_type": "execute_result"
    }
   ],
   "source": [
    "data_ft"
   ]
  },
  {
   "cell_type": "markdown",
   "metadata": {},
   "source": [
    "## State Loading"
   ]
  },
  {
   "cell_type": "code",
   "execution_count": 201,
   "metadata": {},
   "outputs": [],
   "source": [
    "from qiskit import QuantumCircuit, QuantumRegister, ClassicalRegister, Aer, execute"
   ]
  },
  {
   "cell_type": "code",
   "execution_count": 202,
   "metadata": {},
   "outputs": [],
   "source": [
    "def to_statevector(self, config={}):\n",
    "    job = execute(\n",
    "        self,\n",
    "        Aer.get_backend(\"statevector_simulator\"),\n",
    "        **config\n",
    "    )\n",
    "    return job.result().get_statevector()\n",
    "\n",
    "QuantumCircuit.to_statevector = to_statevector"
   ]
  },
  {
   "cell_type": "code",
   "execution_count": 295,
   "metadata": {},
   "outputs": [],
   "source": [
    "def QHomer_Init(data_ft):\n",
    "    \"\"\"creates an initialization circuit creating a state with data_ft as coefficients\"\"\"\n",
    "    # number of qubits necessary\n",
    "    qubit_count = qubits_necessary(len(data_ft))\n",
    "    #print(f\"need {qubit_count} qubits\")\n",
    "\n",
    "    # quantum and classical registers\n",
    "    qregs = QuantumRegister(qubit_count)\n",
    "    #cregs = ClassicalRegister(qubit_count)\n",
    "\n",
    "    # array of complex amplitudes\n",
    "    desired_state = data_ft\n",
    "\n",
    "    # initialization circut\n",
    "    circuit = QuantumCircuit(qregs, name=\"data_loader_trivial\")\n",
    "    circuit.initialize(desired_state, range(qubit_count))\n",
    "    \n",
    "    return circuit"
   ]
  },
  {
   "cell_type": "markdown",
   "metadata": {},
   "source": [
    "## Inverse QFT"
   ]
  },
  {
   "cell_type": "code",
   "execution_count": 296,
   "metadata": {},
   "outputs": [],
   "source": [
    "def QHomer_IQFT(circuit):\n",
    "    from qiskit.aqua.components.iqfts.standard import Standard as StandardIQFT\n",
    "\n",
    "    IQFT = StandardIQFT(len(circuit.qubits))\n",
    "    iqft = IQFT.construct_circuit(mode=\"circuit\", qubits=circuit.qubits, circuit=circuit)\n",
    "\n",
    "    return iqft\n"
   ]
  },
  {
   "cell_type": "code",
   "execution_count": null,
   "metadata": {},
   "outputs": [],
   "source": []
  },
  {
   "cell_type": "markdown",
   "metadata": {},
   "source": [
    "## Simulate and Measure"
   ]
  },
  {
   "cell_type": "code",
   "execution_count": 318,
   "metadata": {},
   "outputs": [],
   "source": [
    "from qiskit.providers.aer import noise\n",
    "from qiskit import IBMQ, transpile\n",
    "from qiskit.ignis.verification.tomography import StateTomographyFitter, state_tomography_circuits"
   ]
  },
  {
   "cell_type": "code",
   "execution_count": 298,
   "metadata": {},
   "outputs": [],
   "source": [
    "from qiskit.providers.aer.extensions import snapshot_density_matrix\n"
   ]
  },
  {
   "cell_type": "code",
   "execution_count": 300,
   "metadata": {},
   "outputs": [
    {
     "name": "stderr",
     "output_type": "stream",
     "text": [
      "/home/johannes/miniconda3/envs/qiskit/lib/python3.7/site-packages/qiskit/providers/ibmq/ibmqfactory.py:181: UserWarning: Credentials are already in use. The existing account in the session will be replaced.\n",
      "  warnings.warn('Credentials are already in use. The existing '\n"
     ]
    },
    {
     "data": {
      "text/plain": [
       "[<IBMQSimulator('ibmq_qasm_simulator') from IBMQ(hub='ibm-q', group='open', project='main')>,\n",
       " <IBMQBackend('ibmqx4') from IBMQ(hub='ibm-q', group='open', project='main')>,\n",
       " <IBMQBackend('ibmqx2') from IBMQ(hub='ibm-q', group='open', project='main')>,\n",
       " <IBMQBackend('ibmq_16_melbourne') from IBMQ(hub='ibm-q', group='open', project='main')>,\n",
       " <IBMQBackend('ibmq_vigo') from IBMQ(hub='ibm-q', group='open', project='main')>,\n",
       " <IBMQBackend('ibmq_ourense') from IBMQ(hub='ibm-q', group='open', project='main')>]"
      ]
     },
     "execution_count": 300,
     "metadata": {},
     "output_type": "execute_result"
    }
   ],
   "source": [
    "# only execute to save account\n",
    "# IBMQ.save_account('APIKEY', overwrite=True)\n",
    "\n",
    "IBMQ.load_account()\n",
    "\n",
    "# check whether we have accounts\n",
    "assert len(IBMQ.providers()) > 0, \"no account loaded. Save one with the command above\"\n",
    "\n",
    "IBMQ_cloud = IBMQ.providers()[0]\n",
    "IBMQ_cloud.backends()"
   ]
  },
  {
   "cell_type": "code",
   "execution_count": 540,
   "metadata": {},
   "outputs": [],
   "source": [
    "def QHomer_Cheap_Mans_Tomography(data_ft, config={}, cheat=True):\n",
    "    simulator = Aer.get_backend(\"qasm_simulator\")\n",
    "    n_qubits = qubits_necessary(len(data_ft))\n",
    "    \n",
    "    circuit_init = QHomer_Init(data_ft)\n",
    "    circuit_init = transpile(circuit_init, basis_gates=['u1', 'u2', 'u3', 'cx'])\n",
    "    circuit_iqft = QHomer_IQFT(circuit_init)\n",
    "    \n",
    "    if cheat:\n",
    "        #return circuit_iqft.to_statevector()\n",
    "        \n",
    "        circuit_iqft.snapshot_density_matrix(\"final_state\")\n",
    "        opts = {\"method\": \"density_matrix\"}\n",
    "        job = execute(circuit_iqft, simulator, shots=1, backend_options=opts)\n",
    "        \n",
    "        data = job.result().data(0)\n",
    "        snapshot = np.array(data[\"snapshots\"][\"density_matrix\"][\"final_state\"])\n",
    "        rho = (snapshot[:, :, :, 0] + 1.0j*snapshot[:, :, :, 1])[0]\n",
    "        \n",
    "        #return rho\n",
    "        \n",
    "        evals, evecs = np.linalg.eigh(rho)\n",
    "        largest_eval_idx = np.argmax(np.abs(evals))\n",
    "        return normalized(evecs.T[largest_eval_idx])\n",
    "    \n",
    "    # full tomography    \n",
    "    measured_qubits = circuit_iqft.qubits\n",
    "    tomography_circuits = state_tomography_circuits(circuit_iqft, measured_qubits)\n",
    "    \n",
    "    tomography_results = StateTomographyFitter(execute(\n",
    "            tomography_circuits,\n",
    "            Aer.get_backend('statevector_simulator'),\n",
    "            shots=1,\n",
    "            **config,\n",
    "        ).result(),\n",
    "        tomography_circuits\n",
    "    ).fit('auto')\n",
    "    \n",
    "    rho = np.array(tomography_results)\n",
    "    evals, evecs = np.linalg.eig(rho)\n",
    "    tomography_guess = evecs[np.argmax(np.abs(evals))]\n",
    "    return tomography_guess"
   ]
  },
  {
   "cell_type": "code",
   "execution_count": null,
   "metadata": {},
   "outputs": [],
   "source": []
  },
  {
   "cell_type": "code",
   "execution_count": 427,
   "metadata": {},
   "outputs": [],
   "source": [
    "# Choose a real device to simulate\n",
    "device = IBMQ_cloud.get_backend(\"ibmqx4\")\n",
    "properties = device.properties()\n",
    "\n",
    "# Generate an Aer noise model for device\n",
    "noise_model = noise.device.basic_device_noise_model(properties)\n",
    "\n",
    "config = {\n",
    "    \"noise_model\": noise_model,\n",
    "    \"basis_gates\": noise_model.basis_gates\n",
    "}"
   ]
  },
  {
   "cell_type": "code",
   "execution_count": 541,
   "metadata": {},
   "outputs": [
    {
     "name": "stderr",
     "output_type": "stream",
     "text": [
      "No classical registers in circuit \"data_loader_trivial\": result data will not contain counts.\n",
      "No measurements in circuit \"data_loader_trivial\": count data will return all zeros.\n"
     ]
    }
   ],
   "source": [
    "phase_tomography_results = QHomer_Cheap_Mans_Tomography(data_ft, config={}, cheat=True)"
   ]
  },
  {
   "cell_type": "markdown",
   "metadata": {},
   "source": [
    "## Recreate Original"
   ]
  },
  {
   "cell_type": "code",
   "execution_count": 366,
   "metadata": {},
   "outputs": [],
   "source": [
    "from PlotTools import plot\n",
    "\n",
    "import functools"
   ]
  },
  {
   "cell_type": "code",
   "execution_count": 542,
   "metadata": {},
   "outputs": [
    {
     "data": {
      "text/plain": [
       "array([ 0.39291293,  0.18747678, -0.0475197 , -0.28477871, -0.38676743,\n",
       "       -0.3201016 ,  0.20591489,  0.28562404])"
      ]
     },
     "execution_count": 542,
     "metadata": {},
     "output_type": "execute_result"
    }
   ],
   "source": [
    "xs, ys = np.real(phase_tomography_results), np.imag(phase_tomography_results)\n",
    "xs"
   ]
  },
  {
   "cell_type": "code",
   "execution_count": 543,
   "metadata": {},
   "outputs": [
    {
     "data": {
      "image/png": "[encoded data removed]",
      "text/plain": [
       "<Figure size 432x288 with 1 Axes>"
      ]
     },
     "metadata": {
      "needs_background": "light"
     },
     "output_type": "display_data"
    }
   ],
   "source": [
    "plot(\"elephant\", xs, ys, linestyle=\"-\")"
   ]
  },
  {
   "cell_type": "code",
   "execution_count": null,
   "metadata": {},
   "outputs": [],
   "source": [
    "array([ 0.07128576, -0.13972766, -0.30669383, -0.17740376,  0.08692079,\n",
    "       -0.01553225,  0.40815363,  0.25357059])"
   ]
  }
 ],
 "metadata": {
  "kernelspec": {
   "display_name": "Python [conda env:qiskit] *",
   "language": "python",
   "name": "conda-env-qiskit-py"
  },
  "language_info": {
   "codemirror_mode": {
    "name": "ipython",
    "version": 3
   },
   "file_extension": ".py",
   "mimetype": "text/x-python",
   "name": "python",
   "nbconvert_exporter": "python",
   "pygments_lexer": "ipython3",
   "version": "3.7.4"
  }
 },
 "nbformat": 4,
 "nbformat_minor": 2
}
