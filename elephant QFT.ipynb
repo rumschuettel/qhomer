{
 "cells": [
  {
   "cell_type": "code",
   "execution_count": 14,
   "metadata": {},
   "outputs": [],
   "source": [
    "import qiskit\n",
    "import numpy as np\n",
    "\n",
    "import json, glob, math"
   ]
  },
  {
   "cell_type": "code",
   "execution_count": 8,
   "metadata": {},
   "outputs": [
    {
     "data": {
      "text/plain": [
       "['curves.nb', 'elephant QFT.ipynb', 'README.md']"
      ]
     },
     "execution_count": 8,
     "metadata": {},
     "output_type": "execute_result"
    }
   ],
   "source": [
    "glob.glob(\"*\")"
   ]
  },
  {
   "cell_type": "code",
   "execution_count": 193,
   "metadata": {},
   "outputs": [],
   "source": [
    "def qubits_necessary(n):\n",
    "    \"\"\"log2 of n\"\"\"\n",
    "    l2 = math.log2(n)\n",
    "    assert l2 % 1 == 0, \"not an integer power of 2\"\n",
    "    return int(l2)\n",
    "\n",
    "def normalized(arr):\n",
    "    \"\"\"l2-normalization\"\"\"\n",
    "    return arr / np.linalg.norm(arr, 2)"
   ]
  },
  {
   "cell_type": "markdown",
   "metadata": {},
   "source": [
    "## Data Loading"
   ]
  },
  {
   "cell_type": "code",
   "execution_count": 194,
   "metadata": {},
   "outputs": [],
   "source": [
    "with open(\"./Resources/elephant.3.json\") as f:\n",
    "    data = json.load(f)[:-1]\n",
    "    data = normalized(np.array([complex(a, b) for a, b in data]))\n",
    "    data = np.round(data, 2)"
   ]
  },
  {
   "cell_type": "code",
   "execution_count": 195,
   "metadata": {},
   "outputs": [
    {
     "data": {
      "text/plain": [
       "array([-0.34-0.2j , -0.35+0.03j, -0.37+0.21j,  0.25+0.2j ,  0.25+0.34j,\n",
       "        0.31+0.04j,  0.2 -0.23j, -0.07-0.25j])"
      ]
     },
     "execution_count": 195,
     "metadata": {},
     "output_type": "execute_result"
    }
   ],
   "source": [
    "data"
   ]
  },
  {
   "cell_type": "markdown",
   "metadata": {},
   "source": [
    "## Classical FT"
   ]
  },
  {
   "cell_type": "code",
   "execution_count": 196,
   "metadata": {},
   "outputs": [],
   "source": [
    "data_ft = normalized(np.fft.fft(data))"
   ]
  },
  {
   "cell_type": "code",
   "execution_count": 197,
   "metadata": {},
   "outputs": [
    {
     "data": {
      "text/plain": [
       "array([-0.04245614+0.04953216j, -0.18816477-0.01940699j,\n",
       "        0.07076023+0.13444443j, -0.00916641-0.19257912j,\n",
       "       -0.14152046+0.03538011j,  0.08202443+0.04063506j,\n",
       "       -0.01415205-0.02122807j, -0.71966393-0.59285941j])"
      ]
     },
     "execution_count": 197,
     "metadata": {},
     "output_type": "execute_result"
    }
   ],
   "source": [
    "data_ft"
   ]
  },
  {
   "cell_type": "markdown",
   "metadata": {},
   "source": [
    "## State Loading"
   ]
  },
  {
   "cell_type": "code",
   "execution_count": 198,
   "metadata": {},
   "outputs": [],
   "source": [
    "from qiskit import QuantumCircuit, QuantumRegister, ClassicalRegister, Aer, execute"
   ]
  },
  {
   "cell_type": "code",
   "execution_count": 199,
   "metadata": {},
   "outputs": [],
   "source": [
    "def to_statevector(self):\n",
    "    job = execute(self, Aer.get_backend(\"statevector_simulator\"))\n",
    "    return job.result().get_statevector()\n",
    "\n",
    "QuantumCircuit.to_statevector = to_statevector"
   ]
  },
  {
   "cell_type": "code",
   "execution_count": 200,
   "metadata": {},
   "outputs": [
    {
     "name": "stdout",
     "output_type": "stream",
     "text": [
      "need 3 qubits\n"
     ]
    }
   ],
   "source": [
    "def QHomer_Init(data_ft):\n",
    "    \"\"\"creates an initialization circuit creating a state with data_ft as coefficients\"\"\"\n",
    "    # number of qubits necessary\n",
    "    qubit_count = qubits_necessary(len(data_ft))\n",
    "    print(f\"need {qubit_count} qubits\")\n",
    "\n",
    "    # quantum and classical registers\n",
    "    qregs = QuantumRegister(qubit_count)\n",
    "    cregs = ClassicalRegister(qubit_count)\n",
    "\n",
    "    # array of complex amplitudes\n",
    "    desired_state = data_ft\n",
    "\n",
    "    # initialization circut\n",
    "    circuit = QuantumCircuit(qregs, cregs, name=\"data_loader_trivial\")\n",
    "    circuit.initialize(desired_state, range(qubit_count))\n",
    "    \n",
    "    return circuit"
   ]
  },
  {
   "cell_type": "markdown",
   "metadata": {},
   "source": [
    "## Inverse QFT"
   ]
  },
  {
   "cell_type": "code",
   "execution_count": 202,
   "metadata": {},
   "outputs": [],
   "source": [
    "def QHomer_IQFT(circuit):\n",
    "    from qiskit.aqua.components.iqfts.standard import Standard as StandardIQFT\n",
    "\n",
    "    IQFT = StandardIQFT(len(quantum_registers))\n",
    "    iqft = IQFT.construct_circuit(mode=\"circuit\", qubits=circuit.qubits, circuit=circuit)\n",
    "\n",
    "    return iqft\n"
   ]
  },
  {
   "cell_type": "code",
   "execution_count": 203,
   "metadata": {},
   "outputs": [],
   "source": []
  },
  {
   "cell_type": "markdown",
   "metadata": {},
   "source": [
    "## Simulate and Measure"
   ]
  },
  {
   "cell_type": "code",
   "execution_count": 204,
   "metadata": {},
   "outputs": [],
   "source": [
    "from qiskit.circuit import Measure"
   ]
  },
  {
   "cell_type": "code",
   "execution_count": 210,
   "metadata": {},
   "outputs": [],
   "source": [
    "def QHomer_Measurement(circuit, idx, phase):\n",
    "    \"\"\"Measure given register with respect to basis |0> + exp(i phase)|1>\"\"\"\n",
    "    \n",
    "    qregs, cregs = circuit.qregs, circuit.cregs\n",
    "    \n",
    "    circuit.u1(phase, idx)\n",
    "    circuit.h(idx)\n",
    "    circuit.measure(idx, idx)\n",
    "    \n",
    "    return circuit"
   ]
  },
  {
   "cell_type": "code",
   "execution_count": 213,
   "metadata": {},
   "outputs": [
    {
     "name": "stdout",
     "output_type": "stream",
     "text": [
      "need 3 qubits\n"
     ]
    }
   ],
   "source": [
    "circuit_init = QHomer_Init(data_ft)\n",
    "circuit_iqft = QHomer_IQFT(circuit_init)\n",
    "circuit_all = QHomer_Measurement(circuit_iqft, 0, 0.)"
   ]
  },
  {
   "cell_type": "code",
   "execution_count": 214,
   "metadata": {},
   "outputs": [
    {
     "data": {
      "text/html": [
       "<pre style=\"word-wrap: normal;white-space: pre;background: #fff0;line-height: 1.1;font-family: &quot;Courier New&quot;,Courier,monospace\">          »\n",
       "q11_0: |0>»\n",
       "          »\n",
       "q11_1: |0>»\n",
       "          »\n",
       "q11_2: |0>»\n",
       "          »\n",
       " c10_0: 0 »\n",
       "          »\n",
       " c10_1: 0 »\n",
       "          »\n",
       " c10_2: 0 »\n",
       "          »\n",
       "«       ┌──────────────────────────────────────────────────────────────────────────────────────────────────────────────────────────────────────────────────────────────────────────────────────────────────────────────────────────────────────────────────────────────────────────────────────────────────────────────────────────────────────────────────────────┐»\n",
       "«q11_0: ┤0                                                                                                                                                                                                                                                                                                                                                         ├»\n",
       "«       │                                                                                                                                                                                                                                                                                                                                                          │»\n",
       "«q11_1: ┤1 initialize(-0.042456136575837 + 0.0495321593384765*I,-0.188164770060701 - 0.0194069879317973*I,0.070760227626395 + 0.134444432490151*I,-0.00916641104614837 - 0.192579116154782*I,-0.14152045525279 + 0.0353801138131975*I,0.0820244286211082 + 0.0406350562197159*I,-0.014152045525279 - 0.0212280682879185*I,-0.71966393350572 - 0.592859410498203*I) ├»\n",
       "«       │                                                                                                                                                                                                                                                                                                                                                          │»\n",
       "«q11_2: ┤2                                                                                                                                                                                                                                                                                                                                                         ├»\n",
       "«       └──────────────────────────────────────────────────────────────────────────────────────────────────────────────────────────────────────────────────────────────────────────────────────────────────────────────────────────────────────────────────────────────────────────────────────────────────────────────────────────────────────────────────────────┘»\n",
       "«c10_0: ════════════════════════════════════════════════════════════════════════════════════════════════════════════════════════════════════════════════════════════════════════════════════════════════════════════════════════════════════════════════════════════════════════════════════════════════════════════════════════════════════════════════════════════»\n",
       "«                                                                                                                                                                                                                                                                                                                                                                   »\n",
       "«c10_1: ════════════════════════════════════════════════════════════════════════════════════════════════════════════════════════════════════════════════════════════════════════════════════════════════════════════════════════════════════════════════════════════════════════════════════════════════════════════════════════════════════════════════════════════»\n",
       "«                                                                                                                                                                                                                                                                                                                                                                   »\n",
       "«c10_2: ════════════════════════════════════════════════════════════════════════════════════════════════════════════════════════════════════════════════════════════════════════════════════════════════════════════════════════════════════════════════════════════════════════════════════════════════════════════════════════════════════════════════════════════»\n",
       "«                                                                                                                                                                                                                                                                                                                                                                   »\n",
       "«                                                                   ┌───┐»\n",
       "«q11_0: ────────────────────────────────────────────────────────────┤ X ├»\n",
       "«                                ┌───┐┌──────────┐┌───┐┌───────────┐└─┬─┘»\n",
       "«q11_1: ─────────────────────────┤ X ├┤ U1(pi/4) ├┤ X ├┤ U1(-pi/4) ├──┼──»\n",
       "«       ┌──────────┐┌───────────┐└─┬─┘└──────────┘└─┬─┘├───────────┤  │  »\n",
       "«q11_2: ┤ U2(0,pi) ├┤ U1(-pi/4) ├──■────────────────■──┤ U1(-pi/8) ├──■──»\n",
       "«       └──────────┘└───────────┘                      └───────────┘     »\n",
       "«c10_0: ═════════════════════════════════════════════════════════════════»\n",
       "«                                                                        »\n",
       "«c10_1: ═════════════════════════════════════════════════════════════════»\n",
       "«                                                                        »\n",
       "«c10_2: ═════════════════════════════════════════════════════════════════»\n",
       "«                                                                        »\n",
       "«                    ┌──────────┐┌───┐┌───────────┐┌───┐┌──────────┐┌───┐»\n",
       "«q11_0: ─────────────┤ U1(pi/8) ├┤ X ├┤ U1(-pi/8) ├┤ X ├┤ U1(pi/4) ├┤ X ├»\n",
       "«       ┌──────────┐┌┴──────────┤└─┬─┘└───────────┘└─┬─┘└──────────┘└─┬─┘»\n",
       "«q11_1: ┤ U2(0,pi) ├┤ U1(-pi/4) ├──┼─────────────────■────────────────■──»\n",
       "«       └──────────┘└───────────┘  │                                     »\n",
       "«q11_2: ───────────────────────────■─────────────────────────────────────»\n",
       "«                                                                        »\n",
       "«c10_0: ═════════════════════════════════════════════════════════════════»\n",
       "«                                                                        »\n",
       "«c10_1: ═════════════════════════════════════════════════════════════════»\n",
       "«                                                                        »\n",
       "«c10_2: ═════════════════════════════════════════════════════════════════»\n",
       "«                                                                        »\n",
       "«       ┌───────────┐┌──────────┐     ┌───┐     ┌───────┐┌───┐┌─┐\n",
       "«q11_0: ┤ U1(-pi/4) ├┤ U2(0,pi) ├──■──┤ X ├──■──┤ U1(0) ├┤ H ├┤M├\n",
       "«       └───────────┘└──────────┘  │  └─┬─┘  │  └───────┘└───┘└╥┘\n",
       "«q11_1: ───────────────────────────┼────┼────┼─────────────────╫─\n",
       "«                                ┌─┴─┐  │  ┌─┴─┐               ║ \n",
       "«q11_2: ─────────────────────────┤ X ├──■──┤ X ├───────────────╫─\n",
       "«                                └───┘     └───┘               ║ \n",
       "«c10_0: ═══════════════════════════════════════════════════════╩═\n",
       "«                                                                \n",
       "«c10_1: ═════════════════════════════════════════════════════════\n",
       "«                                                                \n",
       "«c10_2: ═════════════════════════════════════════════════════════\n",
       "«                                                                </pre>"
      ],
      "text/plain": [
       "<qiskit.visualization.text.TextDrawing at 0x7fb9baa764d0>"
      ]
     },
     "execution_count": 214,
     "metadata": {},
     "output_type": "execute_result"
    }
   ],
   "source": [
    "circuit_all.draw()"
   ]
  },
  {
   "cell_type": "code",
   "execution_count": 114,
   "metadata": {},
   "outputs": [
    {
     "name": "stderr",
     "output_type": "stream",
     "text": [
      "No measurements in circuit \"data_loader_trivial\": count data will return all zeros.\n"
     ]
    },
    {
     "ename": "AttributeError",
     "evalue": "'AerJob' object has no attribute 'results'",
     "output_type": "error",
     "traceback": [
      "\u001b[0;31m---------------------------------------------------------------------------\u001b[0m",
      "\u001b[0;31mAttributeError\u001b[0m                            Traceback (most recent call last)",
      "\u001b[0;32m<ipython-input-114-42ffe78d5193>\u001b[0m in \u001b[0;36m<module>\u001b[0;34m\u001b[0m\n\u001b[1;32m      1\u001b[0m \u001b[0msimulator\u001b[0m \u001b[0;34m=\u001b[0m \u001b[0mAer\u001b[0m\u001b[0;34m.\u001b[0m\u001b[0mget_backend\u001b[0m\u001b[0;34m(\u001b[0m\u001b[0;34m\"qasm_simulator\"\u001b[0m\u001b[0;34m)\u001b[0m\u001b[0;34m\u001b[0m\u001b[0;34m\u001b[0m\u001b[0m\n\u001b[0;32m----> 2\u001b[0;31m \u001b[0mresult\u001b[0m \u001b[0;34m=\u001b[0m \u001b[0mexecute\u001b[0m\u001b[0;34m(\u001b[0m\u001b[0mcircuit_iqft\u001b[0m\u001b[0;34m,\u001b[0m \u001b[0mbackend\u001b[0m \u001b[0;34m=\u001b[0m \u001b[0msimulator\u001b[0m \u001b[0;34m,\u001b[0m \u001b[0mshots\u001b[0m \u001b[0;34m=\u001b[0m \u001b[0;36m1\u001b[0m\u001b[0;34m)\u001b[0m\u001b[0;34m.\u001b[0m\u001b[0mresults\u001b[0m\u001b[0;34m(\u001b[0m\u001b[0;34m)\u001b[0m\u001b[0;34m\u001b[0m\u001b[0;34m\u001b[0m\u001b[0m\n\u001b[0m",
      "\u001b[0;31mAttributeError\u001b[0m: 'AerJob' object has no attribute 'results'"
     ]
    }
   ],
   "source": [
    "simulator = Aer.get_backend(\"qasm_simulator\")\n",
    "result = execute(circuit_iqft, backend = simulator, shots = 1).results()\n"
   ]
  },
  {
   "cell_type": "code",
   "execution_count": null,
   "metadata": {},
   "outputs": [],
   "source": []
  }
 ],
 "metadata": {
  "kernelspec": {
   "display_name": "Python [conda env:qiskit] *",
   "language": "python",
   "name": "conda-env-qiskit-py"
  },
  "language_info": {
   "codemirror_mode": {
    "name": "ipython",
    "version": 3
   },
   "file_extension": ".py",
   "mimetype": "text/x-python",
   "name": "python",
   "nbconvert_exporter": "python",
   "pygments_lexer": "ipython3",
   "version": "3.7.4"
  }
 },
 "nbformat": 4,
 "nbformat_minor": 2
}
