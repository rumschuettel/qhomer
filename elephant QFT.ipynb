{
 "cells": [
  {
   "cell_type": "code",
   "execution_count": 1,
   "metadata": {},
   "outputs": [],
   "source": [
    "import qiskit\n",
    "import numpy as np\n",
    "\n",
    "import json, glob, math"
   ]
  },
  {
   "cell_type": "code",
   "execution_count": 2,
   "metadata": {},
   "outputs": [
    {
     "data": {
      "text/plain": [
       "['elephant QFT.ipynb',\n",
       " 'plot-tools.py',\n",
       " 'png-tools.py',\n",
       " 'QHOMER_IQFT.ipynb',\n",
       " 'QHOMER_Optimizer_Function.ipynb',\n",
       " 'README.md',\n",
       " 'Resources',\n",
       " 'VectorQraphics.py']"
      ]
     },
     "execution_count": 2,
     "metadata": {},
     "output_type": "execute_result"
    }
   ],
   "source": [
    "glob.glob(\"*\")"
   ]
  },
  {
   "cell_type": "code",
   "execution_count": 3,
   "metadata": {},
   "outputs": [],
   "source": [
    "def qubits_necessary(n):\n",
    "    \"\"\"log2 of n\"\"\"\n",
    "    l2 = math.log2(n)\n",
    "    assert l2 % 1 == 0, \"not an integer power of 2\"\n",
    "    return int(l2)\n",
    "\n",
    "def normalized(arr):\n",
    "    \"\"\"l2-normalization\"\"\"\n",
    "    return arr / np.linalg.norm(arr, 2)"
   ]
  },
  {
   "cell_type": "markdown",
   "metadata": {},
   "source": [
    "## Data Loading"
   ]
  },
  {
   "cell_type": "code",
   "execution_count": 4,
   "metadata": {},
   "outputs": [],
   "source": [
    "with open(\"./Resources/elephant.3.json\") as f:\n",
    "    data = json.load(f)[:-1]\n",
    "    data = normalized(np.array([complex(a, b) for a, b in data]))\n",
    "    data = np.round(data, 2)"
   ]
  },
  {
   "cell_type": "code",
   "execution_count": 5,
   "metadata": {},
   "outputs": [
    {
     "data": {
      "text/plain": [
       "array([-0.34-0.2j , -0.35+0.03j, -0.37+0.21j,  0.25+0.2j ,  0.25+0.34j,\n",
       "        0.31+0.04j,  0.2 -0.23j, -0.07-0.25j])"
      ]
     },
     "execution_count": 5,
     "metadata": {},
     "output_type": "execute_result"
    }
   ],
   "source": [
    "data"
   ]
  },
  {
   "cell_type": "markdown",
   "metadata": {},
   "source": [
    "## Classical FT"
   ]
  },
  {
   "cell_type": "code",
   "execution_count": 6,
   "metadata": {},
   "outputs": [],
   "source": [
    "data_ft = normalized(np.fft.fft(data))"
   ]
  },
  {
   "cell_type": "code",
   "execution_count": 7,
   "metadata": {},
   "outputs": [
    {
     "data": {
      "text/plain": [
       "array([-0.04245614+0.04953216j, -0.18816477-0.01940699j,\n",
       "        0.07076023+0.13444443j, -0.00916641-0.19257912j,\n",
       "       -0.14152046+0.03538011j,  0.08202443+0.04063506j,\n",
       "       -0.01415205-0.02122807j, -0.71966393-0.59285941j])"
      ]
     },
     "execution_count": 7,
     "metadata": {},
     "output_type": "execute_result"
    }
   ],
   "source": [
    "data_ft"
   ]
  },
  {
   "cell_type": "markdown",
   "metadata": {},
   "source": [
    "## State Loading"
   ]
  },
  {
   "cell_type": "code",
   "execution_count": 8,
   "metadata": {},
   "outputs": [],
   "source": [
    "from qiskit import QuantumCircuit, QuantumRegister, ClassicalRegister, Aer, execute"
   ]
  },
  {
   "cell_type": "code",
   "execution_count": 9,
   "metadata": {},
   "outputs": [],
   "source": [
    "def to_statevector(self):\n",
    "    job = execute(self, Aer.get_backend(\"statevector_simulator\"))\n",
    "    return job.result().get_statevector()\n",
    "\n",
    "QuantumCircuit.to_statevector = to_statevector"
   ]
  },
  {
   "cell_type": "code",
   "execution_count": 10,
   "metadata": {},
   "outputs": [],
   "source": [
    "def QHomer_Init(data_ft):\n",
    "    \"\"\"creates an initialization circuit creating a state with data_ft as coefficients\"\"\"\n",
    "    # number of qubits necessary\n",
    "    qubit_count = qubits_necessary(len(data_ft))\n",
    "    #print(f\"need {qubit_count} qubits\")\n",
    "\n",
    "    # quantum and classical registers\n",
    "    qregs = QuantumRegister(qubit_count)\n",
    "    cregs = ClassicalRegister(qubit_count)\n",
    "\n",
    "    # array of complex amplitudes\n",
    "    desired_state = data_ft\n",
    "\n",
    "    # initialization circut\n",
    "    circuit = QuantumCircuit(qregs, cregs, name=\"data_loader_trivial\")\n",
    "    circuit.initialize(desired_state, range(qubit_count))\n",
    "    \n",
    "    return circuit"
   ]
  },
  {
   "cell_type": "markdown",
   "metadata": {},
   "source": [
    "## Inverse QFT"
   ]
  },
  {
   "cell_type": "code",
   "execution_count": 11,
   "metadata": {},
   "outputs": [],
   "source": [
    "def QHomer_IQFT(circuit):\n",
    "    from qiskit.aqua.components.iqfts.standard import Standard as StandardIQFT\n",
    "\n",
    "    IQFT = StandardIQFT(len(circuit.qubits))\n",
    "    iqft = IQFT.construct_circuit(mode=\"circuit\", qubits=circuit.qubits, circuit=circuit)\n",
    "\n",
    "    return iqft\n"
   ]
  },
  {
   "cell_type": "code",
   "execution_count": null,
   "metadata": {},
   "outputs": [],
   "source": []
  },
  {
   "cell_type": "markdown",
   "metadata": {},
   "source": [
    "## Simulate and Measure"
   ]
  },
  {
   "cell_type": "code",
   "execution_count": 12,
   "metadata": {},
   "outputs": [],
   "source": [
    "from qiskit.circuit import Measure"
   ]
  },
  {
   "cell_type": "code",
   "execution_count": 13,
   "metadata": {},
   "outputs": [],
   "source": [
    "def QHomer_Measurement(circuit, idx, phase):\n",
    "    \"\"\"Measure given register with respect to basis |0> + exp(i phase)|1>\"\"\"\n",
    "    \n",
    "    qregs, cregs = circuit.qregs, circuit.cregs\n",
    "    \n",
    "    circuit.u1(phase, idx)\n",
    "    circuit.h(idx)\n",
    "    circuit.measure(idx, idx)\n",
    "    \n",
    "    return circuit"
   ]
  },
  {
   "cell_type": "code",
   "execution_count": 14,
   "metadata": {},
   "outputs": [],
   "source": [
    "def QHomer_Cheap_Mans_Tomography(data_ft):\n",
    "    simulator = Aer.get_backend(\"qasm_simulator\")\n",
    "    \n",
    "    def _Cheap_Mans_Tomography(phase):\n",
    "        circuit_init = QHomer_Init(data_ft)\n",
    "        circuit_iqft = QHomer_IQFT(circuit_init)\n",
    "        \n",
    "        circuit_all = QHomer_Measurement(circuit_iqft, range(len(circuit_init.qubits)), phase)    \n",
    "        \n",
    "        result = execute(circuit_iqft, backend = simulator, shots = 1000).result()\n",
    "        \n",
    "        return result.get_counts()\n",
    "    \n",
    "    def _pivot_measurement_counts(counts):\n",
    "        n_qubits = len(list(counts.keys())[0])\n",
    "        pivoted_counts = np.zeros(n_qubits)\n",
    "        \n",
    "        for i in range(n_qubits):\n",
    "            for key in counts:\n",
    "                if key[i] == \"1\":\n",
    "                    pivoted_counts[i] += counts[key]\n",
    "                    \n",
    "        return pivoted_counts\n",
    "    \n",
    "    phase_results = {\n",
    "        phase: _pivot_measurement_counts(\n",
    "            _Cheap_Mans_Tomography(phase)\n",
    "        ) for phase in np.arange(0, 2*math.pi, .1)\n",
    "    }\n",
    "    \n",
    "    phases = np.array(list(phase_results.keys()))\n",
    "    values = np.stack(list(phase_results.values()))\n",
    "    \n",
    "    best_phase_indices = np.argmax(values, axis=0)\n",
    "    return phases[best_phase_indices]\n",
    "\n",
    "\n",
    "phase_tomography_results = QHomer_Cheap_Mans_Tomography(data_ft)"
   ]
  },
  {
   "cell_type": "code",
   "execution_count": 16,
   "metadata": {},
   "outputs": [
    {
     "name": "stdout",
     "output_type": "stream",
     "text": [
      "[6.2 1.3 2.9]\n"
     ]
    }
   ],
   "source": [
    "print(phase_tomography_results)"
   ]
  },
  {
   "cell_type": "code",
   "execution_count": 15,
   "metadata": {},
   "outputs": [
    {
     "ename": "NameError",
     "evalue": "name 'result' is not defined",
     "output_type": "error",
     "traceback": [
      "\u001b[1;31m--------------------------------------------------------------------------\u001b[0m",
      "\u001b[1;31mNameError\u001b[0m                                Traceback (most recent call last)",
      "\u001b[1;32m<ipython-input-15-1c40e2f3f927>\u001b[0m in \u001b[0;36m<module>\u001b[1;34m\u001b[0m\n\u001b[1;32m----> 1\u001b[1;33m \u001b[0mresult\u001b[0m\u001b[1;33m.\u001b[0m\u001b[0mresult\u001b[0m\u001b[1;33m(\u001b[0m\u001b[1;33m)\u001b[0m\u001b[1;33m.\u001b[0m\u001b[0mget_counts\u001b[0m\u001b[1;33m(\u001b[0m\u001b[1;33m)\u001b[0m\u001b[1;33m\u001b[0m\u001b[1;33m\u001b[0m\u001b[0m\n\u001b[0m",
      "\u001b[1;31mNameError\u001b[0m: name 'result' is not defined"
     ]
    }
   ],
   "source": []
  },
  {
   "cell_type": "code",
   "execution_count": null,
   "metadata": {},
   "outputs": [],
   "source": []
  },
  {
   "cell_type": "code",
   "execution_count": null,
   "metadata": {},
   "outputs": [],
   "source": []
  },
  {
   "cell_type": "code",
   "execution_count": null,
   "metadata": {},
   "outputs": [],
   "source": []
  }
 ],
 "metadata": {
  "kernelspec": {
   "display_name": "Python 3",
   "language": "python",
   "name": "python3"
  },
  "language_info": {
   "codemirror_mode": {
    "name": "ipython",
    "version": 3
   },
   "file_extension": ".py",
   "mimetype": "text/x-python",
   "name": "python",
   "nbconvert_exporter": "python",
   "pygments_lexer": "ipython3",
   "version": "3.7.4"
  }
 },
 "nbformat": 4,
 "nbformat_minor": 2
}
