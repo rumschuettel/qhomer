{
 "cells": [
  {
   "cell_type": "code",
   "execution_count": 1,
   "metadata": {},
   "outputs": [],
   "source": [
    "import qiskit\n",
    "import numpy as np\n",
    "\n",
    "import json, glob, math"
   ]
  },
  {
   "cell_type": "code",
   "execution_count": 2,
   "metadata": {},
   "outputs": [
    {
     "data": {
      "text/plain": [
       "['elephant QFT-Copy1.ipynb',\n",
       " 'elephant QFT.ipynb',\n",
       " 'main.py',\n",
       " 'plot-tools.py',\n",
       " 'PlotTools.py',\n",
       " 'png-tools.py',\n",
       " 'QHOMER_IQFT.ipynb',\n",
       " 'QHOMER_Optimizer_Function_FIXED.ipynb',\n",
       " 'README.md',\n",
       " 'Resources',\n",
       " 'VectorQraphics.py']"
      ]
     },
     "execution_count": 2,
     "metadata": {},
     "output_type": "execute_result"
    }
   ],
   "source": [
    "glob.glob(\"*\")"
   ]
  },
  {
   "cell_type": "code",
   "execution_count": 3,
   "metadata": {},
   "outputs": [],
   "source": [
    "def qubits_necessary(n):\n",
    "    \"\"\"log2 of n\"\"\"\n",
    "    l2 = math.log2(n)\n",
    "    assert l2 % 1 == 0, \"not an integer power of 2\"\n",
    "    return int(l2)\n",
    "\n",
    "def normalized(arr):\n",
    "    \"\"\"l2-normalization\"\"\"\n",
    "    return arr / np.linalg.norm(arr, 2)"
   ]
  },
  {
   "cell_type": "markdown",
   "metadata": {},
   "source": [
    "## Data Loading"
   ]
  },
  {
   "cell_type": "code",
   "execution_count": 32,
   "metadata": {},
   "outputs": [],
   "source": [
    "with open(\"./Resources/elephant.5.json\") as f:\n",
    "    data = json.load(f)[:-1]\n",
    "    data = normalized(np.array([complex(a, b) for a, b in data]))\n",
    "    data = np.round(data, 2)"
   ]
  },
  {
   "cell_type": "code",
   "execution_count": 33,
   "metadata": {},
   "outputs": [
    {
     "data": {
      "text/plain": [
       "array([-0.17-0.11j, -0.17-0.08j, -0.21-0.12j, -0.23-0.11j, -0.18+0.01j,\n",
       "       -0.21-0.04j, -0.22-0.06j, -0.21+0.02j, -0.19+0.11j,  0.01+0.17j,\n",
       "        0.03+0.08j,  0.11+0.07j,  0.13+0.11j,  0.14+0.1j ,  0.13+0.1j ,\n",
       "        0.07+0.16j,  0.13+0.18j,  0.19+0.09j,  0.2 -0.03j,  0.18-0.08j,\n",
       "        0.16+0.02j,  0.23+0.07j,  0.11+0.07j,  0.1 -0.06j,  0.1 -0.12j,\n",
       "        0.06-0.04j,  0.02-0.03j, -0.  -0.13j, -0.04-0.13j, -0.03-0.02j,\n",
       "       -0.12-0.04j, -0.13-0.13j])"
      ]
     },
     "execution_count": 33,
     "metadata": {},
     "output_type": "execute_result"
    }
   ],
   "source": [
    "data"
   ]
  },
  {
   "cell_type": "markdown",
   "metadata": {},
   "source": [
    "## Classical FT"
   ]
  },
  {
   "cell_type": "code",
   "execution_count": 34,
   "metadata": {},
   "outputs": [],
   "source": [
    "data_ft = normalized(np.fft.fft(data))"
   ]
  },
  {
   "cell_type": "code",
   "execution_count": 35,
   "metadata": {},
   "outputs": [
    {
     "data": {
      "text/plain": [
       "array([-0.00177042+0.00531127j, -0.34741276+0.00256972j,\n",
       "       -0.05313864+0.07146191j,  0.06575981-0.00204549j,\n",
       "       -0.12559591-0.00591879j,  0.04332638-0.0482607j ,\n",
       "       -0.04624095+0.04511724j, -0.04705194-0.04991865j,\n",
       "        0.09029165-0.04071977j,  0.08796132+0.01735637j,\n",
       "        0.01115804+0.0196035j ,  0.02368619-0.01927542j,\n",
       "        0.0022    -0.02394838j, -0.04680087+0.04093147j,\n",
       "        0.00123625+0.0146417j ,  0.00472047+0.00483276j,\n",
       "       -0.04071977+0.00885212j, -0.00922375-0.00399812j,\n",
       "        0.04097572+0.0033255j , -0.02728684-0.04183952j,\n",
       "       -0.00541551-0.02594886j, -0.00073366+0.02992501j,\n",
       "       -0.03137557+0.02688424j, -0.06368088-0.02648499j,\n",
       "       -0.09029165+0.07612826j,  0.07889283-0.05598811j,\n",
       "        0.07182187+0.04016135j, -0.06693292-0.13726236j,\n",
       "       -0.01282255+0.09122451j,  0.09484674+0.01746436j,\n",
       "        0.07638026-0.10788828j, -0.63987391-0.54948334j])"
      ]
     },
     "execution_count": 35,
     "metadata": {},
     "output_type": "execute_result"
    }
   ],
   "source": [
    "data_ft"
   ]
  },
  {
   "cell_type": "markdown",
   "metadata": {},
   "source": [
    "## State Loading"
   ]
  },
  {
   "cell_type": "code",
   "execution_count": 36,
   "metadata": {},
   "outputs": [],
   "source": [
    "from qiskit import QuantumCircuit, QuantumRegister, ClassicalRegister, Aer, execute"
   ]
  },
  {
   "cell_type": "code",
   "execution_count": 37,
   "metadata": {},
   "outputs": [],
   "source": [
    "def to_statevector(self):\n",
    "    job = execute(self, Aer.get_backend(\"statevector_simulator\"))\n",
    "    return job.result().get_statevector()\n",
    "\n",
    "QuantumCircuit.to_statevector = to_statevector"
   ]
  },
  {
   "cell_type": "code",
   "execution_count": 38,
   "metadata": {},
   "outputs": [],
   "source": [
    "def QHomer_Init(data_ft):\n",
    "    \"\"\"creates an initialization circuit creating a state with data_ft as coefficients\"\"\"\n",
    "    # number of qubits necessary\n",
    "    qubit_count = qubits_necessary(len(data_ft))\n",
    "    #print(f\"need {qubit_count} qubits\")\n",
    "\n",
    "    # quantum and classical registers\n",
    "    qregs = QuantumRegister(qubit_count)\n",
    "    cregs = ClassicalRegister(qubit_count)\n",
    "\n",
    "    # array of complex amplitudes\n",
    "    desired_state = data_ft\n",
    "\n",
    "    # initialization circut\n",
    "    circuit = QuantumCircuit(qregs, cregs, name=\"data_loader_trivial\")\n",
    "    circuit.initialize(desired_state, range(qubit_count))\n",
    "    \n",
    "    return circuit"
   ]
  },
  {
   "cell_type": "markdown",
   "metadata": {},
   "source": [
    "## Inverse QFT"
   ]
  },
  {
   "cell_type": "code",
   "execution_count": 39,
   "metadata": {},
   "outputs": [],
   "source": [
    "def QHomer_IQFT(circuit):\n",
    "    from qiskit.aqua.components.iqfts.standard import Standard as StandardIQFT\n",
    "\n",
    "    IQFT = StandardIQFT(len(circuit.qubits))\n",
    "    iqft = IQFT.construct_circuit(mode=\"circuit\", qubits=circuit.qubits, circuit=circuit)\n",
    "\n",
    "    return iqft\n"
   ]
  },
  {
   "cell_type": "code",
   "execution_count": null,
   "metadata": {},
   "outputs": [],
   "source": []
  },
  {
   "cell_type": "markdown",
   "metadata": {},
   "source": [
    "## Simulate and Measure"
   ]
  },
  {
   "cell_type": "code",
   "execution_count": 40,
   "metadata": {},
   "outputs": [],
   "source": [
    "from qiskit.circuit import Measure"
   ]
  },
  {
   "cell_type": "code",
   "execution_count": 41,
   "metadata": {},
   "outputs": [],
   "source": [
    "def QHomer_Measurement(circuit, idx, phase):\n",
    "    \"\"\"Measure given register with respect to basis |0> + exp(i phase)|1>\"\"\"\n",
    "    \n",
    "    qregs, cregs = circuit.qregs, circuit.cregs\n",
    "    \n",
    "    circuit.u1(phase, idx)\n",
    "    circuit.h(idx)\n",
    "    circuit.measure(idx, idx)\n",
    "    \n",
    "    return circuit"
   ]
  },
  {
   "cell_type": "code",
   "execution_count": 42,
   "metadata": {},
   "outputs": [],
   "source": [
    "def QHomer_Cheap_Mans_Tomography(data_ft):\n",
    "    simulator = Aer.get_backend(\"qasm_simulator\")\n",
    "    \n",
    "    def _Cheap_Mans_Tomography(phase):\n",
    "        circuit_init = QHomer_Init(data_ft)\n",
    "        circuit_iqft = QHomer_IQFT(circuit_init)\n",
    "        \n",
    "        circuit_all = QHomer_Measurement(circuit_iqft, range(len(circuit_init.qubits)), -phase)    \n",
    "        \n",
    "        result = execute(circuit_iqft, backend = simulator, shots = 1000).result()\n",
    "        \n",
    "        return result.get_counts()\n",
    "    \n",
    "    def _pivot_measurement_counts(counts):\n",
    "        n_qubits = len(list(counts.keys())[0])\n",
    "        pivoted_counts = np.zeros(n_qubits)\n",
    "        \n",
    "        for i in range(n_qubits):\n",
    "            for key in counts:\n",
    "                if key[i] == \"0\":\n",
    "                    pivoted_counts[i] += counts[key]\n",
    "                    \n",
    "        return pivoted_counts\n",
    "    \n",
    "    phase_results = {\n",
    "        phase: _pivot_measurement_counts(\n",
    "            _Cheap_Mans_Tomography(phase)\n",
    "        ) for phase in np.arange(0, 2*math.pi, .1)\n",
    "    }\n",
    "    \n",
    "    phases = np.array(list(phase_results.keys()))\n",
    "    values = np.stack(list(phase_results.values()))\n",
    "    \n",
    "    best_phase_indices = np.argmax(values, axis=0)\n",
    "    return phases[best_phase_indices]\n",
    "\n",
    "\n",
    "phase_tomography_results = QHomer_Cheap_Mans_Tomography(data_ft)"
   ]
  },
  {
   "cell_type": "code",
   "execution_count": 43,
   "metadata": {},
   "outputs": [
    {
     "name": "stdout",
     "output_type": "stream",
     "text": [
      "[3.3 2.  0.5 0.2 0.2]\n"
     ]
    }
   ],
   "source": [
    "print(phase_tomography_results)"
   ]
  },
  {
   "cell_type": "markdown",
   "metadata": {},
   "source": [
    "## Recreate Original"
   ]
  },
  {
   "cell_type": "code",
   "execution_count": 44,
   "metadata": {},
   "outputs": [],
   "source": [
    "import functools"
   ]
  },
  {
   "cell_type": "code",
   "execution_count": 45,
   "metadata": {},
   "outputs": [],
   "source": [
    "product_states = np.array([ [1, np.exp(complex(0, phase))] for phase in phase_tomography_results ])\n",
    "expanded = functools.reduce(np.kron, product_states, [1])\n",
    "xs, ys = np.array([ [np.real(p), np.imag(p)] for p in expanded ]).transpose()"
   ]
  },
  {
   "cell_type": "code",
   "execution_count": 46,
   "metadata": {},
   "outputs": [
    {
     "data": {
      "text/plain": [
       "(array([ 1.        ,  0.98006658,  0.98006658,  0.92106099,  0.87758256,\n",
       "         0.76484219,  0.76484219,  0.62160997, -0.41614684, -0.58850112,\n",
       "        -0.58850112, -0.73739372, -0.80114362, -0.90407214, -0.90407214,\n",
       "        -0.97095817, -0.98747977, -0.93645669, -0.93645669, -0.84810003,\n",
       "        -0.79096771, -0.65364362, -0.65364362, -0.49026082,  0.55437434,\n",
       "         0.70866977,  0.70866977,  0.83471278,  0.88551952,  0.96017029,\n",
       "         0.96017029,  0.9965421 ]),\n",
       " array([ 0.        ,  0.19866933,  0.19866933,  0.38941834,  0.47942554,\n",
       "         0.64421769,  0.64421769,  0.78332691,  0.90929743,  0.8084964 ,\n",
       "         0.8084964 ,  0.67546318,  0.59847214,  0.42737988,  0.42737988,\n",
       "         0.23924933, -0.15774569, -0.35078323, -0.35078323, -0.52983614,\n",
       "        -0.61185789, -0.7568025 , -0.7568025 , -0.87157577, -0.83226744,\n",
       "        -0.70554033, -0.70554033, -0.55068554, -0.46460218, -0.2794155 ,\n",
       "        -0.2794155 , -0.0830894 ]))"
      ]
     },
     "execution_count": 46,
     "metadata": {},
     "output_type": "execute_result"
    }
   ],
   "source": [
    "xs, ys"
   ]
  },
  {
   "cell_type": "code",
   "execution_count": 47,
   "metadata": {},
   "outputs": [],
   "source": [
    "from PlotTools import plot"
   ]
  },
  {
   "cell_type": "code",
   "execution_count": 48,
   "metadata": {},
   "outputs": [
    {
     "data": {
      "image/png": "[encoded data removed]",
      "text/plain": [
       "<Figure size 432x288 with 1 Axes>"
      ]
     },
     "metadata": {
      "needs_background": "light"
     },
     "output_type": "display_data"
    }
   ],
   "source": [
    "plot(\"elephant\", xs, ys)"
   ]
  },
  {
   "cell_type": "code",
   "execution_count": null,
   "metadata": {},
   "outputs": [],
   "source": []
  }
 ],
 "metadata": {
  "kernelspec": {
   "display_name": "Python [conda env:qiskit] *",
   "language": "python",
   "name": "conda-env-qiskit-py"
  },
  "language_info": {
   "codemirror_mode": {
    "name": "ipython",
    "version": 3
   },
   "file_extension": ".py",
   "mimetype": "text/x-python",
   "name": "python",
   "nbconvert_exporter": "python",
   "pygments_lexer": "ipython3",
   "version": "3.7.4"
  }
 },
 "nbformat": 4,
 "nbformat_minor": 2
}
